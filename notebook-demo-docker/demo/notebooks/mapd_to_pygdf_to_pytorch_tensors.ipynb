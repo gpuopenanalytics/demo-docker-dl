{
 "cells": [
  {
   "cell_type": "code",
   "execution_count": 13,
   "metadata": {},
   "outputs": [
    {
     "name": "stdout",
     "output_type": "stream",
     "text": [
      "Connection complete\n"
     ]
    }
   ],
   "source": [
    "# imports, setup, and load mapd, torch\n",
    "\n",
    "PWD = !pwd\n",
    "\n",
    "import sys\n",
    "import os.path\n",
    "from pprint import pprint\n",
    "import warnings\n",
    "warnings.filterwarnings('ignore')\n",
    "\n",
    "# Add import path to MapD Thrift binding and Arrow schema\n",
    "thirdparty_path = os.path.join(PWD[0], '..', 'thirdparty')\n",
    "sys.path.append(thirdparty_path)\n",
    "thirdparty_path\n",
    "\n",
    "# If `pygdf` cannot be imported, uncomment code below:\n",
    "pygdf_path = os.path.join(PWD[0], '..')\n",
    "sys.path.append(pygdf_path)\n",
    "\n",
    "import pygdf\n",
    "from numba import cuda\n",
    "from numba.cuda.cudadrv import drvapi\n",
    "import numpy as np\n",
    "from pygdf.gpuarrow import GpuArrowReader\n",
    "from pygdf.dataframe import DataFrame\n",
    "\n",
    "from thrift.protocol import TBinaryProtocol\n",
    "from thrift.protocol import TJSONProtocol\n",
    "from thrift.transport import TSocket\n",
    "from thrift.transport import THttpClient\n",
    "from thrift.transport import TTransport\n",
    "\n",
    "from mapd import MapD\n",
    "from mapd import ttypes\n",
    "\n",
    "# MapD connection\n",
    "\n",
    "def get_client(host_or_uri, port, http):\n",
    "  if http:\n",
    "    transport = THttpClient.THttpClient(host_or_uri)\n",
    "    protocol = TJSONProtocol.TJSONProtocol(transport)\n",
    "  else:\n",
    "    socket = TSocket.TSocket(host_or_uri, port)\n",
    "    transport = TTransport.TBufferedTransport(socket)\n",
    "    protocol = TBinaryProtocol.TBinaryProtocol(transport)\n",
    "\n",
    "  client = MapD.Client(protocol)\n",
    "  transport.open()\n",
    "  return client\n",
    "\n",
    "db_name = 'mapd'\n",
    "user_name = 'mapd'\n",
    "passwd = 'HyperInteractive'\n",
    "hostname = 'localhost'\n",
    "portno = 9091\n",
    "\n",
    "client = get_client(hostname, portno, False)\n",
    "session = client.connect(user_name, passwd, db_name)\n",
    "print('Connection complete')\n",
    "\n",
    "import torch\n",
    "from torch.autograd import Variable\n",
    "import torch.nn as nn\n",
    "import torchvision.transforms as transforms\n",
    "import torch.utils.data as data_utils"
   ]
  },
  {
   "cell_type": "code",
   "execution_count": 14,
   "metadata": {
    "collapsed": true
   },
   "outputs": [],
   "source": [
    "# execute query and get gdf\n",
    "\n",
    "LABEL_COLUMN = \"income_bracket_numeric\"\n",
    "columns = \"\"\"\n",
    "    age, workclass_numeric, education_numeric, education_num, marital_status_numeric, occupation_numeric, relationship_numeric, race_numeric, gender_numeric, capital_gain, capital_loss, hours_per_week, native_country_numeric, income_bracket_numeric\n",
    "\"\"\".strip()\n",
    "\n",
    "#dictionary mapping each categorical variable to number of unique values it has\n",
    "cat_uniq_dict={\"education_numeric\":16, \"gender_numeric\":2, \"marital_status_numeric\":7, \"native_country_numeric\":42, \"occupation_numeric\":15, \"race_numeric\":5, \"relationship_numeric\":6, \"workclass_numeric\":9}\n",
    "\n",
    "mapd_table = \"adult_data_numeric\"\n",
    "limit = 50\n",
    "offset = 0\n",
    "\n",
    "query = \"SELECT {} FROM {} LIMIT {} OFFSET {};\".format(columns, mapd_table, limit, offset)\n",
    "#print(\"Getting records {}-{} from {}...\".format(offset, offset + limit, mapd_table))\n",
    "results = client.sql_execute_gpudf(session, query, device_id=0, first_n=-1)\n",
    "\n",
    "# convert the results into a gpu df\n",
    "ipc_handle = drvapi.cu_ipc_mem_handle(*results.df_handle)\n",
    "ipch = cuda.driver.IpcHandle(None, ipc_handle, size=results.df_size)\n",
    "ctx = cuda.current_context()\n",
    "dptr = ipch.open(ctx)\n",
    "dtype = np.dtype(np.byte)\n",
    "darr = cuda.devicearray.DeviceNDArray(shape=dptr.size, strides=dtype.itemsize, dtype=dtype, gpu_data=dptr)\n",
    "reader = GpuArrowReader(darr)\n",
    "df = DataFrame(reader.to_dict().items())"
   ]
  },
  {
   "cell_type": "code",
   "execution_count": 15,
   "metadata": {},
   "outputs": [
    {
     "name": "stdout",
     "output_type": "stream",
     "text": [
      "<class 'pygdf.dataframe.DataFrame'>\n",
      "(50, 14)\n",
      "<class 'numba.cuda.cudadrv.devicearray.DeviceNDArray'>\n"
     ]
    }
   ],
   "source": [
    "# convert the gdf to a gpu matrix\n",
    "print(type(df))\n",
    "m = df.as_gpu_matrix()\n",
    "print(m.shape)\n",
    "print(type(m))"
   ]
  },
  {
   "cell_type": "code",
   "execution_count": 16,
   "metadata": {},
   "outputs": [
    {
     "name": "stdout",
     "output_type": "stream",
     "text": [
      "torch.Size([50, 14])\n"
     ]
    }
   ],
   "source": [
    "# create a torch tensor of shape m and get the pointer to it\n",
    "from numba import cuda\n",
    "import numpy\n",
    "import math\n",
    "import ctypes\n",
    "\n",
    "# simple cuda copy kernel\n",
    "@cuda.jit\n",
    "def test(in_array, out_ptr):\n",
    "  x, y = cuda.grid(2)\n",
    "  if x < in_array.shape[0] and y < in_array.shape[1]:\n",
    "    out_ptr[x, y] = in_array[x, y]\n",
    "    \n",
    "# setting up grid and block sizes\n",
    "threadsperblock = (16, 16)\n",
    "blockspergrid_x = math.ceil(m.shape[0] / threadsperblock[0])\n",
    "blockspergrid_y = math.ceil(m.shape[1] / threadsperblock[1])\n",
    "blockspergrid = (blockspergrid_x, blockspergrid_y)\n",
    "\n",
    "# TODO: this is hardcoded for 2D tensor for now\n",
    "# I tried torch.LongStorage({m.shape[0],m.shape[1]}) but it didn't work\n",
    "t = torch.cuda.FloatTensor(m.shape[0], m.shape[1])\n",
    "print(t.size())\n",
    "ptr = t.data_ptr()\n",
    "ctx = cuda.current_context()\n",
    "# memory pointer object for tensor data\n",
    "memptr = cuda.cudadrv.driver.MemoryPointer(ctx, ctypes.c_uint64(ptr), t.numel() * t.element_size())\n",
    "# ndarray representation of our tensor \n",
    "arr = cuda.devicearray.DeviceNDArray(shape=m.shape, strides=tuple(4*x for x in t.stride()), dtype=np.dtype(np.float32), gpu_data=memptr)\n",
    "# launch cuda kernel\n",
    "test[blockspergrid, threadsperblock](m, arr)\n",
    "\n",
    "# check output values\n",
    "m_host = m.copy_to_host()\n",
    "for x in range(m.shape[0]):\n",
    "    for y in range(m.shape[1]):\n",
    "        assert(m_host[x, y] == t[x, y])\n",
    "#print(m_host)\n",
    "#print(t)"
   ]
  },
  {
   "cell_type": "code",
   "execution_count": null,
   "metadata": {
    "collapsed": true
   },
   "outputs": [],
   "source": []
  },
  {
   "cell_type": "code",
   "execution_count": null,
   "metadata": {
    "collapsed": true
   },
   "outputs": [],
   "source": [
    "#convert categorical variables to one hot vectors\n",
    "for k in cat_uniq_dict.keys():\n",
    "    cats=np.array(range(cat_uniq_dict[k]))\n",
    "    df = df.one_hot_encoding(k, prefix=k, cats=cats, dtype ='int')\n",
    "    del df[k]    \n",
    "\n",
    "# make labels\n",
    "labels=df[LABEL_COLUMN].to_array()\n",
    "labels=torch.from_numpy(labels)\n",
    "\n",
    "#make features\n",
    "df.drop_column(LABEL_COLUMN)\n",
    "features=df.as_matrix()\n",
    "features=torch.from_numpy(features)\n",
    "\n",
    "# clean up the IPC handle\n",
    "ipch.close()"
   ]
  }
 ],
 "metadata": {
  "kernelspec": {
   "display_name": "Python 3",
   "language": "python",
   "name": "python3"
  },
  "language_info": {
   "codemirror_mode": {
    "name": "ipython",
    "version": 3
   },
   "file_extension": ".py",
   "mimetype": "text/x-python",
   "name": "python",
   "nbconvert_exporter": "python",
   "pygments_lexer": "ipython3",
   "version": "3.5.3"
  }
 },
 "nbformat": 4,
 "nbformat_minor": 2
}
